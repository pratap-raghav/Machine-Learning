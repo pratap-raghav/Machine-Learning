{
 "cells": [
  {
   "cell_type": "code",
   "execution_count": 1,
   "id": "0436c56f-7f28-4e5a-9ab1-05dd99c6a795",
   "metadata": {},
   "outputs": [],
   "source": [
    "import pandas as pd"
   ]
  },
  {
   "cell_type": "code",
   "execution_count": 13,
   "id": "b7ca6b08-cbc1-453c-b92c-73ab301f0b92",
   "metadata": {},
   "outputs": [
    {
     "name": "stdout",
     "output_type": "stream",
     "text": [
      "   Example   Color Toughness Fungus Arrearance Poisonous\n",
      "0        1   GREEN      HARD     NO   WRINKELD       YES\n",
      "1        2   GREEN      HARD    YES     SMOOTH        NO\n",
      "2        3   BROWN      SOFT     NO   WRINKELD        NO\n",
      "3        4  ORANGE      HARD     NO   WRINKELD       YES\n",
      "4        5   GREEN      SOFT    YES     SMOOTH       YES\n",
      "5        6   GREEN      HARD    YES   WRINKELD       YES\n",
      "6        7  ORANGE      HARD     NO   WRINKELD       YES\n",
      "<class 'pandas.core.frame.DataFrame'>\n"
     ]
    }
   ],
   "source": [
    "dataset = pd.read_csv(\"Class1.csv\")\n",
    "print(dataset)\n",
    "print(type(dataset))"
   ]
  },
  {
   "cell_type": "code",
   "execution_count": 16,
   "id": "8181ae40-afd3-4355-8f34-68f9e2031143",
   "metadata": {},
   "outputs": [
    {
     "name": "stdout",
     "output_type": "stream",
     "text": [
      "0    1\n",
      "1    2\n",
      "2    3\n",
      "3    4\n",
      "4    5\n",
      "5    6\n",
      "6    7\n",
      "Name: Example, dtype: int64\n",
      "0     GREEN\n",
      "1     GREEN\n",
      "2     BROWN\n",
      "3    ORANGE\n",
      "4     GREEN\n",
      "5     GREEN\n",
      "6    ORANGE\n",
      "Name: Color, dtype: object\n",
      "0    HARD\n",
      "1    HARD\n",
      "2    SOFT\n",
      "3    HARD\n",
      "4    SOFT\n",
      "5    HARD\n",
      "6    HARD\n",
      "Name: Toughness, dtype: object\n",
      "0     NO\n",
      "1    YES\n",
      "2     NO\n",
      "3     NO\n",
      "4    YES\n",
      "5    YES\n",
      "6     NO\n",
      "Name: Fungus, dtype: object\n",
      "0    WRINKELD\n",
      "1      SMOOTH\n",
      "2    WRINKELD\n",
      "3    WRINKELD\n",
      "4      SMOOTH\n",
      "5    WRINKELD\n",
      "6    WRINKELD\n",
      "Name: Arrearance, dtype: object\n",
      "0    YES\n",
      "1     NO\n",
      "2     NO\n",
      "3    YES\n",
      "4    YES\n",
      "5    YES\n",
      "6    YES\n",
      "Name: Poisonous, dtype: object\n"
     ]
    }
   ],
   "source": [
    "for row in dataset:\n",
    "    print(dataset[row])"
   ]
  },
  {
   "cell_type": "code",
   "execution_count": null,
   "id": "46bdd4e2-d28f-4acb-8481-ef6396cb3f1f",
   "metadata": {},
   "outputs": [],
   "source": []
  }
 ],
 "metadata": {
  "kernelspec": {
   "display_name": "Python 3 (ipykernel)",
   "language": "python",
   "name": "python3"
  },
  "language_info": {
   "codemirror_mode": {
    "name": "ipython",
    "version": 3
   },
   "file_extension": ".py",
   "mimetype": "text/x-python",
   "name": "python",
   "nbconvert_exporter": "python",
   "pygments_lexer": "ipython3",
   "version": "3.12.7"
  }
 },
 "nbformat": 4,
 "nbformat_minor": 5
}
