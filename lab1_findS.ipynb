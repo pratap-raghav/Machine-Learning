{
 "cells": [
  {
   "cell_type": "code",
   "execution_count": 1,
   "id": "d5d3a463-5517-4055-be6a-3376b19c2024",
   "metadata": {},
   "outputs": [],
   "source": [
    "import pandas as pd"
   ]
  },
  {
   "cell_type": "code",
   "execution_count": 2,
   "id": "776c8f51-ae2b-4a34-a131-1a6ff2216b30",
   "metadata": {},
   "outputs": [],
   "source": [
    "def find_s(data):\n",
    "    hypothesis = None\n",
    "\n",
    "    for _, row in data.iterrows():\n",
    "        attributes, label = row.iloc[:-1], row.iloc[-1]\n",
    "        if label == \"Yes\":\n",
    "            if hypothesis is None:\n",
    "                hypothesis = list(attributes)\n",
    "            else:\n",
    "                for i in range(len(hypothesis)):\n",
    "                    if hypothesis[i] != attributes.iloc[i]:\n",
    "                        hypothesis[i] = \"?\"\n",
    "    \n",
    "    return hypothesis"
   ]
  },
  {
   "cell_type": "code",
   "execution_count": 3,
   "id": "a0ece486-2bcc-4632-9c7a-7fb13ace0de8",
   "metadata": {},
   "outputs": [
    {
     "name": "stdout",
     "output_type": "stream",
     "text": [
      "Final Hypothesis: ['Sunny', 'Warm', '?', 'Strong', '?', '?']\n"
     ]
    }
   ],
   "source": [
    "dataset = pd.read_csv(\"datasetNew.csv\")  \n",
    "# dataset.head(5)\n",
    "hypothesis = find_s(dataset)\n",
    "print(\"Final Hypothesis:\", hypothesis)"
   ]
  },
  {
   "cell_type": "code",
   "execution_count": 4,
   "id": "6d3ac266-af08-436f-9f93-6b31234861f8",
   "metadata": {},
   "outputs": [
    {
     "data": {
      "text/plain": [
       "['Sunny', 'Warm', '?', 'Strong', '?', '?']"
      ]
     },
     "execution_count": 4,
     "metadata": {},
     "output_type": "execute_result"
    }
   ],
   "source": [
    "find_s(dataset)"
   ]
  },
  {
   "cell_type": "code",
   "execution_count": null,
   "id": "7c72a53b-d241-4558-a125-53e179e45b86",
   "metadata": {},
   "outputs": [],
   "source": []
  }
 ],
 "metadata": {
  "kernelspec": {
   "display_name": "Python 3 (ipykernel)",
   "language": "python",
   "name": "python3"
  },
  "language_info": {
   "codemirror_mode": {
    "name": "ipython",
    "version": 3
   },
   "file_extension": ".py",
   "mimetype": "text/x-python",
   "name": "python",
   "nbconvert_exporter": "python",
   "pygments_lexer": "ipython3",
   "version": "3.12.7"
  }
 },
 "nbformat": 4,
 "nbformat_minor": 5
}
