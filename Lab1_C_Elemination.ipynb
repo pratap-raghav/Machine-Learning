{
 "cells": [
  {
   "cell_type": "code",
   "execution_count": 1,
   "id": "7e27e657-cc37-454e-a42c-020e06197036",
   "metadata": {},
   "outputs": [],
   "source": [
    "import pandas as pd\n",
    "import numpy as np"
   ]
  },
  {
   "cell_type": "code",
   "execution_count": 11,
   "id": "09c2ad2c-d784-443b-8d0c-6034d13a4712",
   "metadata": {},
   "outputs": [
    {
     "name": "stdout",
     "output_type": "stream",
     "text": [
      "     Sky Temperature Humidity    Wind Water Forecast PlayTennis\n",
      "0  Sunny        Warm   Normal  Strong  Warm     Same        Yes\n",
      "1  Sunny        Warm     High  Strong  Warm     Same        Yes\n",
      "2  Rainy        Cold     High  Strong  Warm   Change         No\n",
      "3  Sunny        Warm     High  Strong  Cool   Change        Yes\n"
     ]
    }
   ],
   "source": [
    "data = pd.read_csv('datasetNew.csv')\n",
    "print(data)\n",
    "concepts = np.array(data.iloc[:, :-1])\n",
    "target = np.array(data.iloc[:, -1])"
   ]
  },
  {
   "cell_type": "code",
   "execution_count": 12,
   "id": "06284ce4-4183-442f-83bc-f363de13cc68",
   "metadata": {},
   "outputs": [],
   "source": [
    "def candidate_elimination(concepts, target):\n",
    "    n_features = concepts.shape[1]\n",
    "    S = concepts[0].copy()\n",
    "    G = [['?' for _ in range(n_features)]]\n",
    "\n",
    "    for i, instance in enumerate(concepts):\n",
    "        if target[i] == 'Yes':\n",
    "            for attr in range(n_features):\n",
    "                if S[attr] != instance[attr]:\n",
    "                    S[attr] = '?'\n",
    "            G = [g for g in G if all(g[attr] == '?' or g[attr] == instance[attr] for attr in range(n_features))]\n",
    "        else:\n",
    "            new_G = []\n",
    "            for g in G:\n",
    "                for attr in range(n_features):\n",
    "                    if S[attr] != '?' and S[attr] != instance[attr]:\n",
    "                        new_hypothesis = g.copy()\n",
    "                        new_hypothesis[attr] = S[attr]\n",
    "                        new_G.append(new_hypothesis)\n",
    "            G.extend(new_G)\n",
    "            G = [list(x) for x in set(tuple(x) for x in G)]\n",
    "\n",
    "    return S, G"
   ]
  },
  {
   "cell_type": "code",
   "execution_count": 13,
   "id": "b134d01f-3755-4c33-874d-000dc7e00859",
   "metadata": {},
   "outputs": [],
   "source": [
    "S_final, G_final = candidate_elimination(concepts, target)"
   ]
  },
  {
   "cell_type": "code",
   "execution_count": 14,
   "id": "bd222b9d-f9ae-4268-ba76-656ba32f5003",
   "metadata": {},
   "outputs": [
    {
     "name": "stdout",
     "output_type": "stream",
     "text": [
      "\n",
      "Final Specific Hypothesis (S): ['Sunny' 'Warm' '?' 'Strong' '?' '?']\n",
      "\n",
      "Final General Hypotheses (G):\n",
      "['?', '?', '?', '?', '?', '?']\n",
      "['Sunny', '?', '?', '?', '?', '?']\n",
      "['?', 'Warm', '?', '?', '?', '?']\n"
     ]
    }
   ],
   "source": [
    "print(\"\\nFinal Specific Hypothesis (S):\", S_final)\n",
    "print(\"\\nFinal General Hypotheses (G):\")\n",
    "for g in G_final:\n",
    "    print(g)"
   ]
  },
  {
   "cell_type": "code",
   "execution_count": null,
   "id": "40355b65-ef7e-40bc-84a3-dd5b90f7b607",
   "metadata": {},
   "outputs": [],
   "source": []
  }
 ],
 "metadata": {
  "kernelspec": {
   "display_name": "Python 3 (ipykernel)",
   "language": "python",
   "name": "python3"
  },
  "language_info": {
   "codemirror_mode": {
    "name": "ipython",
    "version": 3
   },
   "file_extension": ".py",
   "mimetype": "text/x-python",
   "name": "python",
   "nbconvert_exporter": "python",
   "pygments_lexer": "ipython3",
   "version": "3.12.7"
  }
 },
 "nbformat": 4,
 "nbformat_minor": 5
}
